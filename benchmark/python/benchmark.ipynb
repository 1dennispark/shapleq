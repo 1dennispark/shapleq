{
 "cells": [
  {
   "cell_type": "code",
   "execution_count": 1,
   "metadata": {},
   "outputs": [],
   "source": [
    "import numpy as np\n",
    "import pandas as pd\n",
    "from subprocess import call\n",
    "import concurrent.futures\n",
    "import sys, os\n",
    "import time\n",
    "\n",
    "import pubsub\n",
    "\n",
    "def kf_create_topic(topic):\n",
    "    if call([\"./kf-topic\", \"create\", topic], cwd=\"../kafka/client/admin/\") != 0:\n",
    "        print(\"error occurred on running producer\")\n",
    "        sys.exit ()\n",
    "\n",
    "def kf_delete_topic(topic):\n",
    "    if call([\"./kf-topic\", \"delete\", topic], cwd=\"../kafka/client/admin/\") != 0:\n",
    "        print(\"error occurred on running producer\")\n",
    "        sys.exit ()\n",
    "\n",
    "def sq_create_topic(topic):\n",
    "    if call([\"./sq-topic\", \"create\", topic], cwd=\"../shapleQ/client/admin/\") != 0:\n",
    "        print(\"error occurred on create topic\")\n",
    "        sys.exit ()\n",
    "\n",
    "def sq_delete_topic(topic):\n",
    "    if call([\"./sq-topic\", \"delete\", topic], cwd=\"../shapleQ/client/admin/\") != 0:\n",
    "        print(\"error occurred on delete topic\")\n",
    "        sys.exit ()\n",
    "\n"
   ]
  },
  {
   "cell_type": "code",
   "execution_count": 2,
   "metadata": {},
   "outputs": [],
   "source": [
    "def run_process(num_producer, num_consumer, topic, file_path, num_data, p, c):\n",
    "    producer_futures = []\n",
    "    consumer_futures = []\n",
    "    \n",
    "    pool = concurrent.futures.ProcessPoolExecutor()\n",
    "    \n",
    "        \n",
    "    # Setup consumer process\n",
    "    for i in range(num_consumer):\n",
    "        proc = pool.submit(c, topic, num_data * num_producer)\n",
    "        consumer_futures.append(proc)\n",
    "    \n",
    "    time.sleep(1)\n",
    "    # Setup producer processes\n",
    "    for i in range(num_producer):\n",
    "        proc = pool.submit(p, topic, file_path, num_data)\n",
    "        producer_futures.append(proc)   \n",
    "    start_produce_ts = [ f.result() for i, f in enumerate(producer_futures) ]\n",
    "    end_consume_ts = [ f.result() for i, f in enumerate(consumer_futures) ]\n",
    "\n",
    "    # check if result is -1\n",
    "#     if min(start_produce_ts) <= 0 or min(end_consume_ts) <= 0:\n",
    "#         print(\"error occurred...\")\n",
    "    \n",
    "#     start_produce_t = min(start_produce_ts)\n",
    "#     end_consume_t = max(end_consume_ts)\n",
    "    return start_produce_ts, end_consume_ts\n",
    "\n",
    "def bench_kafka(num_producer, num_consumer, topic, file_path, num_data):\n",
    "    # Create topic\n",
    "    kf_create_topic(topic)\n",
    "    pubsub.kf_publish(topic, file_path, 1)\n",
    "    elapsed_time = run_process(num_producer, num_consumer, topic, file_path, num_data, pubsub.kf_publish, pubsub.kf_subscribe)\n",
    "    kf_delete_topic(topic)\n",
    "    \n",
    "    return elapsed_time\n",
    "\n",
    "def bench_shapleq(num_producer, num_consumer, topic, file_path, num_data):\n",
    "    # Create topic\n",
    "    sq_create_topic(topic)\n",
    "    pubsub.sq_publish(topic, file_path, 1)\n",
    "    \n",
    "    elapsed_time = run_process(num_producer, num_consumer, topic, file_path, num_data, pubsub.sq_publish, pubsub.sq_subscribe)\n",
    "    sq_delete_topic(topic)\n",
    "    \n",
    "    return elapsed_time"
   ]
  },
  {
   "cell_type": "code",
   "execution_count": 6,
   "metadata": {},
   "outputs": [],
   "source": [
    "test_topic = \"b-tf\"\n",
    "consumer_num_list = np.arange(1, 31, 3).tolist()"
   ]
  },
  {
   "cell_type": "code",
   "execution_count": 5,
   "metadata": {},
   "outputs": [
    {
     "name": "stdout",
     "output_type": "stream",
     "text": [
      "[-10011] [11005, 11007, 10970]\n"
     ]
    }
   ],
   "source": [
    "sq_time_max, sq_time_avg = bench_shapleq(1, 3, test_topic, \"/Users/elon/go/src/github.com/paust-team/shapleq/benchmark/test-dataset.tsv\", 1000)\n",
    "print(sq_time_max, sq_time_avg)"
   ]
  },
  {
   "cell_type": "code",
   "execution_count": 7,
   "metadata": {},
   "outputs": [
    {
     "name": "stdout",
     "output_type": "stream",
     "text": [
      "[-1767] [3155, 3155, 3152]\n"
     ]
    }
   ],
   "source": [
    "kf_time_max, kf_time_avg = bench_kafka(1, 3, test_topic, \"/Users/elon/go/src/github.com/paust-team/shapleq/benchmark/test-dataset.tsv\", 1000)\n",
    "print(kf_time_max, kf_time_avg)"
   ]
  },
  {
   "cell_type": "code",
   "execution_count": null,
   "metadata": {
    "scrolled": true
   },
   "outputs": [],
   "source": [
    "sq_times = []\n",
    "\n",
    "# Heating\n",
    "#bench_shapleq(1, 32, test_topic+\"_h\", \"/Users/paust/go/src/github.com/paust-team/shapleq/benchmark/python/test-dataset.tsv\", 10000)\n",
    "    \n",
    "def print_sp_times(num):\n",
    "    pd_times, cm_times = bench_shapleq(1, num, test_topic+str(num), \"/Users/elon/go/src/github.com/paust-team/shapleq/benchmark/test-dataset.tsv\", 1000)\n",
    "    elapsed_time = np.mean(cm_times)\n",
    "    print(elapsed_time)\n",
    "    sq_times.append(elapsed_time)\n",
    "\n",
    "for num in consumer_num_list:\n",
    "    print_sp_times(num)\n"
   ]
  },
  {
   "cell_type": "code",
   "execution_count": null,
   "metadata": {},
   "outputs": [],
   "source": [
    "print_sp_times(1)"
   ]
  },
  {
   "cell_type": "code",
   "execution_count": null,
   "metadata": {},
   "outputs": [],
   "source": [
    "print_sp_times(4)"
   ]
  },
  {
   "cell_type": "code",
   "execution_count": null,
   "metadata": {},
   "outputs": [],
   "source": [
    "print_sp_times(7)"
   ]
  },
  {
   "cell_type": "code",
   "execution_count": null,
   "metadata": {},
   "outputs": [],
   "source": [
    "print_sp_times(10)"
   ]
  },
  {
   "cell_type": "code",
   "execution_count": null,
   "metadata": {},
   "outputs": [],
   "source": [
    "print_sp_times(13)"
   ]
  },
  {
   "cell_type": "code",
   "execution_count": null,
   "metadata": {},
   "outputs": [],
   "source": [
    "print_sp_times(16)"
   ]
  },
  {
   "cell_type": "code",
   "execution_count": null,
   "metadata": {},
   "outputs": [],
   "source": [
    "print_sp_times(19)"
   ]
  },
  {
   "cell_type": "code",
   "execution_count": null,
   "metadata": {},
   "outputs": [],
   "source": [
    "print_sp_times(22)"
   ]
  },
  {
   "cell_type": "code",
   "execution_count": null,
   "metadata": {},
   "outputs": [],
   "source": [
    "print_sp_times(25)"
   ]
  },
  {
   "cell_type": "code",
   "execution_count": null,
   "metadata": {},
   "outputs": [],
   "source": [
    "print_sp_times(28)"
   ]
  },
  {
   "cell_type": "code",
   "execution_count": null,
   "metadata": {},
   "outputs": [],
   "source": [
    "kf_times = []\n",
    "\n",
    "# Heating\n",
    "#bench_kafka(1, 32, test_topic+\"_h\", \"/Users/paust/go/src/github.com/paust-team/shapleq/benchmark/python/test-dataset.tsv\", 10000)\n",
    "\n",
    "def print_kf_times(num):\n",
    "    t = time.perf_counter()\n",
    "    pd_times, cm_times = bench_kafka(1, num, test_topic+str(num), \"/Users/paust/go/src/github.com/paust-team/shapleq/benchmark/python/test-dataset.tsv\", 1000)\n",
    "    elapsed_time = time.perf_counter() - t\n",
    "    print(elapsed_time, np.mean(cm_times))\n",
    "    kf_times.append(elapsed_time)\n",
    "    \n",
    "for num in consumer_num_list:\n",
    "    print_kf_times(num)\n"
   ]
  },
  {
   "cell_type": "code",
   "execution_count": null,
   "metadata": {},
   "outputs": [],
   "source": [
    "print_kf_times(1)"
   ]
  },
  {
   "cell_type": "code",
   "execution_count": null,
   "metadata": {},
   "outputs": [],
   "source": [
    "print_kf_times(4)"
   ]
  },
  {
   "cell_type": "code",
   "execution_count": null,
   "metadata": {},
   "outputs": [],
   "source": [
    "print_kf_times(7)"
   ]
  },
  {
   "cell_type": "code",
   "execution_count": null,
   "metadata": {},
   "outputs": [],
   "source": [
    "print_kf_times(10)"
   ]
  },
  {
   "cell_type": "code",
   "execution_count": null,
   "metadata": {},
   "outputs": [],
   "source": [
    "print_kf_times(13)"
   ]
  },
  {
   "cell_type": "code",
   "execution_count": null,
   "metadata": {},
   "outputs": [],
   "source": [
    "print_kf_times(16)"
   ]
  },
  {
   "cell_type": "code",
   "execution_count": null,
   "metadata": {},
   "outputs": [],
   "source": [
    "print_kf_times(19)"
   ]
  },
  {
   "cell_type": "code",
   "execution_count": null,
   "metadata": {},
   "outputs": [],
   "source": [
    "print_kf_times(22)"
   ]
  },
  {
   "cell_type": "code",
   "execution_count": null,
   "metadata": {},
   "outputs": [],
   "source": [
    "print_kf_times(25)"
   ]
  },
  {
   "cell_type": "code",
   "execution_count": null,
   "metadata": {},
   "outputs": [],
   "source": [
    "print_kf_times(28)"
   ]
  },
  {
   "cell_type": "code",
   "execution_count": null,
   "metadata": {},
   "outputs": [],
   "source": [
    "\n",
    "from matplotlib import pyplot as plt\n",
    "plt.plot(consumer_num_list, sq_times)\n",
    "plt.plot(consumer_num_list, kf_times)\n",
    "plt.xlabel('Number of Consumers')\n",
    "plt.ylabel('Elapsed Time(second)')\n",
    "plt.legend(['ShapleQ', 'Kafka'])\n",
    "plt.show()"
   ]
  },
  {
   "cell_type": "code",
   "execution_count": null,
   "metadata": {},
   "outputs": [],
   "source": [
    "print(\"kafka result = {} ShapleQ result = {}\".format(kf_time, sq_time))"
   ]
  },
  {
   "cell_type": "code",
   "execution_count": null,
   "metadata": {},
   "outputs": [],
   "source": []
  },
  {
   "cell_type": "code",
   "execution_count": null,
   "metadata": {},
   "outputs": [],
   "source": []
  }
 ],
 "metadata": {
  "kernelspec": {
   "display_name": "Python 3",
   "language": "python",
   "name": "python3"
  },
  "language_info": {
   "codemirror_mode": {
    "name": "ipython",
    "version": 3
   },
   "file_extension": ".py",
   "mimetype": "text/x-python",
   "name": "python",
   "nbconvert_exporter": "python",
   "pygments_lexer": "ipython3",
   "version": "3.8.5"
  }
 },
 "nbformat": 4,
 "nbformat_minor": 4
}
