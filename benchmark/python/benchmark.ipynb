{
 "cells": [
  {
   "cell_type": "code",
   "execution_count": 6,
   "metadata": {},
   "outputs": [],
   "source": [
    "import numpy as np\n",
    "import pandas as pd\n",
    "import json\n",
    "from matplotlib import pyplot as plt"
   ]
  },
  {
   "cell_type": "code",
   "execution_count": 7,
   "metadata": {},
   "outputs": [],
   "source": [
    "kf_result_path = \"../kf-result.txt\"\n",
    "sq_result_path = \"../sq-result.txt\""
   ]
  },
  {
   "cell_type": "code",
   "execution_count": 11,
   "metadata": {},
   "outputs": [],
   "source": [
    "def read_jsons(path):\n",
    "    # Using readlines() \n",
    "    file1 = open(path, 'r') \n",
    "    Lines = file1.readlines() \n",
    "    \n",
    "    results = []\n",
    "    \n",
    "    for line in Lines: \n",
    "        result = json.loads(line.strip())\n",
    "        results.append(result)\n",
    "    return results"
   ]
  },
  {
   "cell_type": "code",
   "execution_count": 15,
   "metadata": {},
   "outputs": [],
   "source": [
    "kf_results = read_jsons(kf_result_path)\n",
    "sq_results = read_jsons(sq_result_path)\n",
    "\n",
    "num_consumers = list(map(lambda i: i[\"NumClient\"], kf_results))\n"
   ]
  },
  {
   "cell_type": "code",
   "execution_count": 16,
   "metadata": {},
   "outputs": [
    {
     "data": {
      "image/png": "[encoded data removed]",
      "text/plain": [
       "<Figure size 432x288 with 1 Axes>"
      ]
     },
     "metadata": {
      "needs_background": "light"
     },
     "output_type": "display_data"
    }
   ],
   "source": [
    "plt.plot(num_consumers, list(map(lambda i: i[\"AvgTime\"], kf_results)))\n",
    "plt.plot(num_consumers, list(map(lambda i: i[\"AvgTime\"], sq_results)))\n",
    "plt.xlabel('Number of Consumers')\n",
    "plt.ylabel('Elapsed Time(second)')\n",
    "plt.legend(['Kafka', 'ShapleQ'])\n",
    "plt.show()"
   ]
  },
  {
   "cell_type": "code",
   "execution_count": null,
   "metadata": {},
   "outputs": [],
   "source": []
  }
 ],
 "metadata": {
  "kernelspec": {
   "display_name": "Python 3",
   "language": "python",
   "name": "python3"
  },
  "language_info": {
   "codemirror_mode": {
    "name": "ipython",
    "version": 3
   },
   "file_extension": ".py",
   "mimetype": "text/x-python",
   "name": "python",
   "nbconvert_exporter": "python",
   "pygments_lexer": "ipython3",
   "version": "3.7.3"
  }
 },
 "nbformat": 4,
 "nbformat_minor": 4
}
